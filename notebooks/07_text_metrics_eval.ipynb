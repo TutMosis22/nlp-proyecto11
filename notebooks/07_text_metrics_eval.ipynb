{
 "cells": [
  {
   "cell_type": "markdown",
   "id": "06ca6d6b",
   "metadata": {},
   "source": [
    "# EVALUACIÓN DE TEXTO:\n",
    "- BLEU\n",
    "- ROUGE-L\n",
    "- METEOR\n",
    "- Self-BLEU"
   ]
  },
  {
   "cell_type": "code",
   "execution_count": 24,
   "id": "f95cb1d8",
   "metadata": {},
   "outputs": [
    {
     "name": "stdout",
     "output_type": "stream",
     "text": [
      "Requirement already satisfied: nltk in c:\\users\\calag\\appdata\\local\\programs\\python\\python311\\lib\\site-packages (3.9.1)\n",
      "Requirement already satisfied: rouge-score in c:\\users\\calag\\appdata\\local\\programs\\python\\python311\\lib\\site-packages (0.1.2)\n",
      "Requirement already satisfied: rouge in c:\\users\\calag\\appdata\\local\\programs\\python\\python311\\lib\\site-packages (1.0.1)\n",
      "Collecting seaborn\n",
      "  Downloading seaborn-0.13.2-py3-none-any.whl.metadata (5.4 kB)\n",
      "Requirement already satisfied: click in c:\\users\\calag\\appdata\\local\\programs\\python\\python311\\lib\\site-packages (from nltk) (8.1.7)\n",
      "Requirement already satisfied: joblib in c:\\users\\calag\\appdata\\local\\programs\\python\\python311\\lib\\site-packages (from nltk) (1.4.2)\n",
      "Requirement already satisfied: regex>=2021.8.3 in c:\\users\\calag\\appdata\\local\\programs\\python\\python311\\lib\\site-packages (from nltk) (2024.5.10)\n",
      "Requirement already satisfied: tqdm in c:\\users\\calag\\appdata\\local\\programs\\python\\python311\\lib\\site-packages (from nltk) (4.66.4)\n",
      "Requirement already satisfied: absl-py in c:\\users\\calag\\appdata\\local\\programs\\python\\python311\\lib\\site-packages (from rouge-score) (2.0.0)\n",
      "Requirement already satisfied: numpy in c:\\users\\calag\\appdata\\local\\programs\\python\\python311\\lib\\site-packages (from rouge-score) (1.26.4)\n",
      "Requirement already satisfied: six>=1.14.0 in c:\\users\\calag\\appdata\\local\\programs\\python\\python311\\lib\\site-packages (from rouge-score) (1.16.0)\n",
      "Requirement already satisfied: pandas>=1.2 in c:\\users\\calag\\appdata\\local\\programs\\python\\python311\\lib\\site-packages (from seaborn) (2.1.0)\n",
      "Requirement already satisfied: matplotlib!=3.6.1,>=3.4 in c:\\users\\calag\\appdata\\local\\programs\\python\\python311\\lib\\site-packages (from seaborn) (3.7.2)\n",
      "Requirement already satisfied: contourpy>=1.0.1 in c:\\users\\calag\\appdata\\local\\programs\\python\\python311\\lib\\site-packages (from matplotlib!=3.6.1,>=3.4->seaborn) (1.1.0)\n",
      "Requirement already satisfied: cycler>=0.10 in c:\\users\\calag\\appdata\\local\\programs\\python\\python311\\lib\\site-packages (from matplotlib!=3.6.1,>=3.4->seaborn) (0.11.0)\n",
      "Requirement already satisfied: fonttools>=4.22.0 in c:\\users\\calag\\appdata\\local\\programs\\python\\python311\\lib\\site-packages (from matplotlib!=3.6.1,>=3.4->seaborn) (4.42.1)\n",
      "Requirement already satisfied: kiwisolver>=1.0.1 in c:\\users\\calag\\appdata\\local\\programs\\python\\python311\\lib\\site-packages (from matplotlib!=3.6.1,>=3.4->seaborn) (1.4.4)\n",
      "Requirement already satisfied: packaging>=20.0 in c:\\users\\calag\\appdata\\local\\programs\\python\\python311\\lib\\site-packages (from matplotlib!=3.6.1,>=3.4->seaborn) (23.2)\n",
      "Requirement already satisfied: pillow>=6.2.0 in c:\\users\\calag\\appdata\\local\\programs\\python\\python311\\lib\\site-packages (from matplotlib!=3.6.1,>=3.4->seaborn) (10.0.0)\n",
      "Requirement already satisfied: pyparsing<3.1,>=2.3.1 in c:\\users\\calag\\appdata\\local\\programs\\python\\python311\\lib\\site-packages (from matplotlib!=3.6.1,>=3.4->seaborn) (3.0.9)\n",
      "Requirement already satisfied: python-dateutil>=2.7 in c:\\users\\calag\\appdata\\local\\programs\\python\\python311\\lib\\site-packages (from matplotlib!=3.6.1,>=3.4->seaborn) (2.8.2)\n",
      "Requirement already satisfied: pytz>=2020.1 in c:\\users\\calag\\appdata\\local\\programs\\python\\python311\\lib\\site-packages (from pandas>=1.2->seaborn) (2023.3.post1)\n",
      "Requirement already satisfied: tzdata>=2022.1 in c:\\users\\calag\\appdata\\local\\programs\\python\\python311\\lib\\site-packages (from pandas>=1.2->seaborn) (2023.3)\n",
      "Requirement already satisfied: colorama in c:\\users\\calag\\appdata\\local\\programs\\python\\python311\\lib\\site-packages (from click->nltk) (0.4.6)\n",
      "Downloading seaborn-0.13.2-py3-none-any.whl (294 kB)\n",
      "   ---------------------------------------- 0.0/294.9 kB ? eta -:--:--\n",
      "   ---------------------------------------- 294.9/294.9 kB 9.2 MB/s eta 0:00:00\n",
      "Installing collected packages: seaborn\n",
      "Successfully installed seaborn-0.13.2\n",
      "Note: you may need to restart the kernel to use updated packages.\n"
     ]
    },
    {
     "name": "stderr",
     "output_type": "stream",
     "text": [
      "\n",
      "[notice] A new release of pip is available: 24.0 -> 25.1\n",
      "[notice] To update, run: python.exe -m pip install --upgrade pip\n"
     ]
    }
   ],
   "source": [
    "%pip install nltk rouge-score rouge seaborn"
   ]
  },
  {
   "cell_type": "code",
   "execution_count": 7,
   "id": "8590b6e6",
   "metadata": {},
   "outputs": [
    {
     "name": "stderr",
     "output_type": "stream",
     "text": [
      "[nltk_data] Downloading package punkt to ./nltk_data...\n",
      "[nltk_data]   Unzipping tokenizers\\punkt.zip.\n",
      "[nltk_data] Downloading package wordnet to ./nltk_data...\n",
      "[nltk_data] Downloading package omw-1.4 to ./nltk_data...\n"
     ]
    },
    {
     "data": {
      "text/plain": [
       "True"
      ]
     },
     "execution_count": 7,
     "metadata": {},
     "output_type": "execute_result"
    }
   ],
   "source": [
    "import nltk\n",
    "nltk.download('punkt', download_dir='./nltk_data')\n",
    "nltk.download('wordnet', download_dir='./nltk_data')\n",
    "nltk.download('omw-1.4', download_dir='./nltk_data')"
   ]
  },
  {
   "cell_type": "code",
   "execution_count": 25,
   "id": "d2fba843",
   "metadata": {},
   "outputs": [],
   "source": [
    "from rouge import Rouge\n",
    "from nltk.translate.bleu_score import sentence_bleu, SmoothingFunction\n",
    "from nltk.translate.meteor_score import meteor_score\n",
    "from nltk.tokenize import word_tokenize\n",
    "from rouge_score import rouge_scorer\n",
    "import json\n",
    "import pandas as pd\n",
    "import os\n",
    "import matplotlib.pyplot as plt\n",
    "import seaborn as sns"
   ]
  },
  {
   "cell_type": "code",
   "execution_count": null,
   "id": "72fc06f9",
   "metadata": {},
   "outputs": [],
   "source": [
    "def simple_tokenize(text):\n",
    "    return text.lower().split()"
   ]
  },
  {
   "cell_type": "code",
   "execution_count": 3,
   "id": "7a4e3af9",
   "metadata": {},
   "outputs": [],
   "source": [
    "def cargar_respuestas(path):\n",
    "    with open(path, \"r\", encoding=\"utf-8\") as f:\n",
    "        return json.load(f)\n",
    "\n",
    "res_openai = cargar_respuestas(\"generations/openai_outputs.json\")\n",
    "res_diffusers = cargar_respuestas(\"generations/diffusers_outputs.json\")\n",
    "res_transformers = cargar_respuestas(\"generations/transformers_outputs.json\")"
   ]
  },
  {
   "cell_type": "code",
   "execution_count": null,
   "id": "e8a94c27",
   "metadata": {},
   "outputs": [],
   "source": [
    "rouge = Rouge()\n",
    "smooth = SmoothingFunction().method4\n",
    "\n",
    "#SE CREA UNA LISTA DE PROMPTS Y SUS RESPECTIVAS RESPUESTAS\n",
    "resultados = []\n",
    "\n",
    "for i in range(len(res_openai)):\n",
    "    prompt = res_openai[i][\"prompt\"]\n",
    "    refs = [\n",
    "        res_openai[i][\"response\"],\n",
    "        res_diffusers[i][\"response\"],\n",
    "        res_transformers[i][\"response\"]\n",
    "    ]\n",
    "\n",
    "    #COMPARACIONES CRUZADAS\n",
    "    modelos = [\"openai\", \"diffusers\", \"transformers\"]\n",
    "    respuestas = {\n",
    "        \"openai\": res_openai[i][\"response\"],\n",
    "        \"diffusers\": res_diffusers[i][\"response\"],\n",
    "        \"transformers\": res_transformers[i][\"response\"]\n",
    "    }\n",
    "\n",
    "    for modelo in modelos:\n",
    "        candidata = respuestas[modelo]\n",
    "        otras_refs = [r for r in refs if r != candidata]\n",
    "\n",
    "        bleu = sentence_bleu(\n",
    "            [r.split() for r in otras_refs],\n",
    "            candidata.split(),\n",
    "            smoothing_function=smooth\n",
    "        )\n",
    "        rouge_l = rouge.get_scores(candidata, otras_refs[0])[0][\"rouge-l\"][\"f\"]\n",
    "        meteor = meteor_score([simple_tokenize(ref) for ref in otras_refs], simple_tokenize(candidata))\n",
    "\n",
    "        resultados.append({\n",
    "            \"Prompt\": prompt,\n",
    "            \"Modelo\": modelo,\n",
    "            \"BLEU\": round(bleu, 4),\n",
    "            \"ROUGE-L\": round(rouge_l, 4),\n",
    "            \"METEOR\": round(meteor, 4),\n",
    "        })\n"
   ]
  },
  {
   "cell_type": "code",
   "execution_count": null,
   "id": "4c3d9338",
   "metadata": {},
   "outputs": [],
   "source": [
    "#SI EL Self-Blue ES MÁS BAJO IMPLICA UNA MAYOR DIVERSIDAD INTERNA ENTRE RESPUESTAS\n",
    "self_bleus = []\n",
    "\n",
    "for modelo in [\"openai\", \"diffusers\", \"transformers\"]:\n",
    "    respuestas_modelo = [res_openai, res_diffusers, res_transformers][[\"openai\", \"diffusers\", \"transformers\"].index(modelo)]\n",
    "    scores = []\n",
    "    for i in range(len(respuestas_modelo)):\n",
    "        target = respuestas_modelo[i][\"response\"]\n",
    "        otras = [res[\"response\"] for j, res in enumerate(respuestas_modelo) if j != i]\n",
    "        score = sentence_bleu([o.split() for o in otras], target.split(), smoothing_function=smooth)\n",
    "        scores.append(score)\n",
    "    avg_self_bleu = sum(scores) / len(scores)\n",
    "    self_bleus.append({\"Modelo\": modelo, \"Self-BLEU\": round(avg_self_bleu, 4)})\n"
   ]
  },
  {
   "cell_type": "code",
   "execution_count": null,
   "id": "570cdd04",
   "metadata": {},
   "outputs": [
    {
     "name": "stdout",
     "output_type": "stream",
     "text": [
      "=== MÉTRICAS DE SIMILITUD CON OTRAS RESPUESTAS ===\n"
     ]
    },
    {
     "data": {
      "text/html": [
       "<div>\n",
       "<style scoped>\n",
       "    .dataframe tbody tr th:only-of-type {\n",
       "        vertical-align: middle;\n",
       "    }\n",
       "\n",
       "    .dataframe tbody tr th {\n",
       "        vertical-align: top;\n",
       "    }\n",
       "\n",
       "    .dataframe thead th {\n",
       "        text-align: right;\n",
       "    }\n",
       "</style>\n",
       "<table border=\"1\" class=\"dataframe\">\n",
       "  <thead>\n",
       "    <tr style=\"text-align: right;\">\n",
       "      <th></th>\n",
       "      <th>Prompt</th>\n",
       "      <th>Modelo</th>\n",
       "      <th>BLEU</th>\n",
       "      <th>ROUGE-L</th>\n",
       "      <th>METEOR</th>\n",
       "    </tr>\n",
       "  </thead>\n",
       "  <tbody>\n",
       "    <tr>\n",
       "      <th>0</th>\n",
       "      <td>Describe una imagen de una ciudad futurista al...</td>\n",
       "      <td>openai</td>\n",
       "      <td>0.0403</td>\n",
       "      <td>0.2381</td>\n",
       "      <td>0.1694</td>\n",
       "    </tr>\n",
       "    <tr>\n",
       "      <th>1</th>\n",
       "      <td>Describe una imagen de una ciudad futurista al...</td>\n",
       "      <td>diffusers</td>\n",
       "      <td>0.1200</td>\n",
       "      <td>0.2381</td>\n",
       "      <td>0.1535</td>\n",
       "    </tr>\n",
       "    <tr>\n",
       "      <th>2</th>\n",
       "      <td>Describe una imagen de una ciudad futurista al...</td>\n",
       "      <td>transformers</td>\n",
       "      <td>0.1433</td>\n",
       "      <td>0.3061</td>\n",
       "      <td>0.2052</td>\n",
       "    </tr>\n",
       "    <tr>\n",
       "      <th>3</th>\n",
       "      <td>Inventa una historia de ciencia ficción en 3 l...</td>\n",
       "      <td>openai</td>\n",
       "      <td>0.0146</td>\n",
       "      <td>0.0816</td>\n",
       "      <td>0.1034</td>\n",
       "    </tr>\n",
       "    <tr>\n",
       "      <th>4</th>\n",
       "      <td>Inventa una historia de ciencia ficción en 3 l...</td>\n",
       "      <td>diffusers</td>\n",
       "      <td>0.1058</td>\n",
       "      <td>0.0816</td>\n",
       "      <td>0.1360</td>\n",
       "    </tr>\n",
       "    <tr>\n",
       "      <th>5</th>\n",
       "      <td>Inventa una historia de ciencia ficción en 3 l...</td>\n",
       "      <td>transformers</td>\n",
       "      <td>0.1269</td>\n",
       "      <td>0.1474</td>\n",
       "      <td>0.1573</td>\n",
       "    </tr>\n",
       "    <tr>\n",
       "      <th>6</th>\n",
       "      <td>Escribe una descripción poética de un bosque e...</td>\n",
       "      <td>openai</td>\n",
       "      <td>0.0132</td>\n",
       "      <td>0.1149</td>\n",
       "      <td>0.0905</td>\n",
       "    </tr>\n",
       "    <tr>\n",
       "      <th>7</th>\n",
       "      <td>Escribe una descripción poética de un bosque e...</td>\n",
       "      <td>diffusers</td>\n",
       "      <td>0.1398</td>\n",
       "      <td>0.1149</td>\n",
       "      <td>0.2824</td>\n",
       "    </tr>\n",
       "    <tr>\n",
       "      <th>8</th>\n",
       "      <td>Escribe una descripción poética de un bosque e...</td>\n",
       "      <td>transformers</td>\n",
       "      <td>0.1444</td>\n",
       "      <td>0.1333</td>\n",
       "      <td>0.2890</td>\n",
       "    </tr>\n",
       "  </tbody>\n",
       "</table>\n",
       "</div>"
      ],
      "text/plain": [
       "                                              Prompt        Modelo    BLEU  \\\n",
       "0  Describe una imagen de una ciudad futurista al...        openai  0.0403   \n",
       "1  Describe una imagen de una ciudad futurista al...     diffusers  0.1200   \n",
       "2  Describe una imagen de una ciudad futurista al...  transformers  0.1433   \n",
       "3  Inventa una historia de ciencia ficción en 3 l...        openai  0.0146   \n",
       "4  Inventa una historia de ciencia ficción en 3 l...     diffusers  0.1058   \n",
       "5  Inventa una historia de ciencia ficción en 3 l...  transformers  0.1269   \n",
       "6  Escribe una descripción poética de un bosque e...        openai  0.0132   \n",
       "7  Escribe una descripción poética de un bosque e...     diffusers  0.1398   \n",
       "8  Escribe una descripción poética de un bosque e...  transformers  0.1444   \n",
       "\n",
       "   ROUGE-L  METEOR  \n",
       "0   0.2381  0.1694  \n",
       "1   0.2381  0.1535  \n",
       "2   0.3061  0.2052  \n",
       "3   0.0816  0.1034  \n",
       "4   0.0816  0.1360  \n",
       "5   0.1474  0.1573  \n",
       "6   0.1149  0.0905  \n",
       "7   0.1149  0.2824  \n",
       "8   0.1333  0.2890  "
      ]
     },
     "metadata": {},
     "output_type": "display_data"
    },
    {
     "name": "stdout",
     "output_type": "stream",
     "text": [
      "\n",
      "=== SELF-BLEU (diversidad interna) ===\n"
     ]
    },
    {
     "data": {
      "text/html": [
       "<div>\n",
       "<style scoped>\n",
       "    .dataframe tbody tr th:only-of-type {\n",
       "        vertical-align: middle;\n",
       "    }\n",
       "\n",
       "    .dataframe tbody tr th {\n",
       "        vertical-align: top;\n",
       "    }\n",
       "\n",
       "    .dataframe thead th {\n",
       "        text-align: right;\n",
       "    }\n",
       "</style>\n",
       "<table border=\"1\" class=\"dataframe\">\n",
       "  <thead>\n",
       "    <tr style=\"text-align: right;\">\n",
       "      <th></th>\n",
       "      <th>Modelo</th>\n",
       "      <th>Self-BLEU</th>\n",
       "    </tr>\n",
       "  </thead>\n",
       "  <tbody>\n",
       "    <tr>\n",
       "      <th>0</th>\n",
       "      <td>openai</td>\n",
       "      <td>0.0176</td>\n",
       "    </tr>\n",
       "    <tr>\n",
       "      <th>1</th>\n",
       "      <td>diffusers</td>\n",
       "      <td>0.0128</td>\n",
       "    </tr>\n",
       "    <tr>\n",
       "      <th>2</th>\n",
       "      <td>transformers</td>\n",
       "      <td>0.0273</td>\n",
       "    </tr>\n",
       "  </tbody>\n",
       "</table>\n",
       "</div>"
      ],
      "text/plain": [
       "         Modelo  Self-BLEU\n",
       "0        openai     0.0176\n",
       "1     diffusers     0.0128\n",
       "2  transformers     0.0273"
      ]
     },
     "metadata": {},
     "output_type": "display_data"
    }
   ],
   "source": [
    "df_metricas = pd.DataFrame(resultados)\n",
    "df_self_bleu = pd.DataFrame(self_bleus)\n",
    "\n",
    "print(\"=== MÉTRICAS DE SIMILITUD CON OTRAS RESPUESTAS ===\")\n",
    "display(df_metricas)\n",
    "\n",
    "print(\"\\n=== SELF-BLEU (diversidad interna) ===\")\n",
    "display(df_self_bleu)\n",
    "\n",
    "#GUARDAMOS EN EL CSV\n",
    "df_metricas.to_csv(\"../metrics/eval_text_metrics.csv\", index=False)\n",
    "df_self_bleu.to_csv(\"../metrics/eval_self_bleu.csv\", index=False)"
   ]
  },
  {
   "cell_type": "code",
   "execution_count": null,
   "id": "90d17202",
   "metadata": {},
   "outputs": [
    {
     "data": {
      "image/png": "[encoded data removed]",
      "text/plain": [
       "<Figure size 1200x600 with 1 Axes>"
      ]
     },
     "metadata": {},
     "output_type": "display_data"
    }
   ],
   "source": [
    "#CREAMOS UN GRÁFICO DE BARRAS PARA BLEU, ROUGE-L, METEOR\n",
    "plt.figure(figsize=(12, 6))\n",
    "df_mean = df_metricas.groupby(\"Modelo\")[[\"BLEU\", \"ROUGE-L\", \"METEOR\"]].mean().reset_index()\n",
    "df_mean_melted = df_mean.melt(id_vars=\"Modelo\", var_name=\"Métrica\", value_name=\"Puntaje\")\n",
    "\n",
    "sns.barplot(data=df_mean_melted, x=\"Métrica\", y=\"Puntaje\", hue=\"Modelo\")\n",
    "plt.title(\"Comparación de métricas BLEU, ROUGE-L y METEOR por modelo\")\n",
    "plt.ylim(0, 1)\n",
    "plt.legend(title=\"Modelo\")\n",
    "plt.tight_layout()\n",
    "plt.show()\n"
   ]
  },
  {
   "cell_type": "code",
   "execution_count": 27,
   "id": "ac48dad7",
   "metadata": {},
   "outputs": [
    {
     "name": "stdout",
     "output_type": "stream",
     "text": [
      "\n",
      "El modelo con mejor rendimiento promedio es: **transformers**\n",
      "Valores promedio obtenidos:\n",
      "  - BLEU: 0.1382\n",
      "  - ROUGE-L: 0.1956\n",
      "  - METEOR: 0.2172\n",
      "\n",
      "Este modelo presenta las puntuaciones más altas en métricas de similitud,\n",
      "lo que indica que sus respuestas son más similares a las de los otros modelos,\n",
      "aunque puede que también signifique menos diversidad creativa.\n"
     ]
    }
   ],
   "source": [
    "mejor_modelo = df_mean.set_index(\"Modelo\").mean(axis=1).idxmax()\n",
    "mejor_valores = df_mean[df_mean[\"Modelo\"] == mejor_modelo].iloc[0].to_dict()\n",
    "\n",
    "print(f\"\\nEl modelo con mejor rendimiento promedio es: **{mejor_modelo}**\")\n",
    "print(\"Valores promedio obtenidos:\")\n",
    "for metrica, valor in mejor_valores.items():\n",
    "    if metrica != \"Modelo\":\n",
    "        print(f\"  - {metrica}: {valor:.4f}\")\n",
    "print(\"\\nEste modelo presenta las puntuaciones más altas en métricas de similitud,\\nlo que indica que sus respuestas son más similares a las de los otros modelos,\\naunque puede que también signifique menos diversidad creativa.\")"
   ]
  }
 ],
 "metadata": {
  "kernelspec": {
   "display_name": "Python 3",
   "language": "python",
   "name": "python3"
  },
  "language_info": {
   "codemirror_mode": {
    "name": "ipython",
    "version": 3
   },
   "file_extension": ".py",
   "mimetype": "text/x-python",
   "name": "python",
   "nbconvert_exporter": "python",
   "pygments_lexer": "ipython3",
   "version": "3.11.4"
  }
 },
 "nbformat": 4,
 "nbformat_minor": 5
}
