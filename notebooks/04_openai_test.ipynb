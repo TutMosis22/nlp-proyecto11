{
 "cells": [
  {
   "cell_type": "markdown",
   "id": "939079dc",
   "metadata": {},
   "source": [
    "AQUÍ PODRÉ REALIZAR PRUEBAS Y BENCHMARKING INICIAL CON LA API DE OPENAI"
   ]
  },
  {
   "cell_type": "code",
   "execution_count": 4,
   "id": "0dad99df",
   "metadata": {},
   "outputs": [],
   "source": [
    "import openai\n",
    "import os\n",
    "from dotenv import load_dotenv"
   ]
  },
  {
   "cell_type": "code",
   "execution_count": 6,
   "id": "c675391b",
   "metadata": {},
   "outputs": [],
   "source": [
    "# Cargar API KEY desde .env\n",
    "load_dotenv()\n",
    "client = openai.OpenAI(api_key=os.getenv(\"OPENAI_API_KEY\"))"
   ]
  },
  {
   "cell_type": "code",
   "execution_count": 7,
   "id": "d36db355",
   "metadata": {},
   "outputs": [],
   "source": [
    "# Función auxiliar\n",
    "def generate_text(prompt, model=\"gpt-3.5-turbo\", max_tokens=100):\n",
    "    response = client.chat.completions.create(\n",
    "        model=model,\n",
    "        messages=[{\"role\": \"user\", \"content\": prompt}],\n",
    "        max_tokens=max_tokens,\n",
    "        temperature=0.7\n",
    "    )\n",
    "    return response.choices[0].message.content.strip()"
   ]
  },
  {
   "cell_type": "code",
   "execution_count": 8,
   "id": "18934aad",
   "metadata": {},
   "outputs": [],
   "source": [
    "#Prompts de prueba\n",
    "prompts = [\n",
    "    \"Describe una imagen de una ciudad futurista al atardecer.\",\n",
    "    \"Inventa una historia de ciencia ficción en 3 líneas.\",\n",
    "    \"Escribe una descripción poética de un bosque encantado.\",\n",
    "]"
   ]
  },
  {
   "cell_type": "code",
   "execution_count": 9,
   "id": "409ae94d",
   "metadata": {},
   "outputs": [
    {
     "name": "stdout",
     "output_type": "stream",
     "text": [
      "\n",
      "--- Prompt #1 ---\n",
      "Prompt: Describe una imagen de una ciudad futurista al atardecer.\n",
      "Respuesta: En la imagen se puede apreciar una ciudad futurista con edificios de diseño vanguardista y tecnológico, todos iluminados con luces de colores brillantes que se reflejan en el cielo anaranjado del atardecer. En las calles, se observan vehículos voladores desplazándose de un lugar a otro, mientras que en las aceras las personas caminan con trajes futuristas y dispositivos tecn\n",
      "\n",
      "--- Prompt #2 ---\n",
      "Prompt: Inventa una historia de ciencia ficción en 3 líneas.\n",
      "Respuesta: En un futuro distópico, la humanidad ha colonizado Marte en busca de recursos naturales. Sin embargo, descubren que el planeta rojo alberga una antigua civilización alienígena que despierta de su letargo y comienza a atacar a los colonos humanos. Ahora, la supervivencia de la humanidad en Marte está en juego.\n",
      "\n",
      "--- Prompt #3 ---\n",
      "Prompt: Escribe una descripción poética de un bosque encantado.\n",
      "Respuesta: En las profundidades del bosque encantado,\n",
      "donde los árboles susurran secretos antiguos,\n",
      "las sombras bailan al compás del viento,\n",
      "y la luz se filtra entre las ramas como un manto dorado.\n",
      "\n",
      "Los árboles se alzan imponentes y majestuosos,\n",
      "sus hojas susurrando melodías mágicas,\n",
      "mientras las flores silvestres se abren paso,\n",
      "pint\n"
     ]
    }
   ],
   "source": [
    "# Pruebas y visualización de resultados\n",
    "for i, prompt in enumerate(prompts, 1):\n",
    "    print(f\"\\n--- Prompt #{i} ---\")\n",
    "    print(\"Prompt:\", prompt)\n",
    "    print(\"Respuesta:\", generate_text(prompt))"
   ]
  }
 ],
 "metadata": {
  "kernelspec": {
   "display_name": "Python 3",
   "language": "python",
   "name": "python3"
  },
  "language_info": {
   "codemirror_mode": {
    "name": "ipython",
    "version": 3
   },
   "file_extension": ".py",
   "mimetype": "text/x-python",
   "name": "python",
   "nbconvert_exporter": "python",
   "pygments_lexer": "ipython3",
   "version": "3.11.4"
  }
 },
 "nbformat": 4,
 "nbformat_minor": 5
}
